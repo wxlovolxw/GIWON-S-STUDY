{
 "cells": [
  {
   "cell_type": "markdown",
   "metadata": {},
   "source": [
    "# 1.당장 좋은 것만 선택하는 그리디"
   ]
  },
  {
   "cell_type": "markdown",
   "metadata": {},
   "source": [
    "그리디(Greedy) 알고리즘 : 가장 단순하지만 강력한 문제 해결 방법.  \n",
    "- 사전에 외우고 있지 않아도 문제를 풀 수 있을 가능성이 높은 문제 유형\n",
    "- 창의력과 아이디어를 떠올릴 수 있는 능력이 요구\n",
    "- 주로 정렬 문제와 함께 출제"
   ]
  },
  {
   "cell_type": "markdown",
   "metadata": {},
   "source": [
    "## 3-1 거스름돈  \n",
    "당신은 음식점에서 계산을 도와주는 점원. 카운터에서 거스름돈으로 사용할 500원, 100원, 50원, 10원짜리 동전이 무한히 존재한다고 가정한다. 손님에게 거슬러줘야 할 돈이 N원일 때, 거슬러줘야 할 동전의 최소 개수를 구하라. 단, 거슬러 줘야 할 돈 N은 항상 10의 배수이다.  "
   ]
  },
  {
   "cell_type": "markdown",
   "metadata": {},
   "source": [
    "-> 최소한으로 동전을 거슬러 줘야 하므로 큰 단위의 동전의 수가 많아야 한다. 즉, 어떤 금액이 있을 때 가장 큰 단위의 동전으로 나눈 몫을 그 다음 단위의 동전으로 나누고 이를 반복한다."
   ]
  },
  {
   "cell_type": "code",
   "execution_count": 2,
   "metadata": {},
   "outputs": [
    {
     "name": "stdout",
     "output_type": "stream",
     "text": [
      "6\n"
     ]
    }
   ],
   "source": [
    "n = 1260 # 거스름돈이 총 1260이라 가정\n",
    "coins = [500,100,50,10] # 동전의 종류는 다음과 같이 네가지\n",
    "count = 0 # 동전의 갯수를 순서대로 count한다.\n",
    "\n",
    "for coin in coins:\n",
    "    count += (n//coin) # 나눠지는 몫이 동전의 갯수이므로 카운트에 더해준다.\n",
    "    n %= coin # 나누고 남은 나머지가 새로운 n으로 갱신된다.\n",
    "    \n",
    "print(count)"
   ]
  },
  {
   "cell_type": "markdown",
   "metadata": {},
   "source": [
    "- 반복문에서 동전의 종류(N)에 따라 연산 횟수가 달라지므로 시간 복잡도는 O(N)이 된다.\n",
    "- 하지만 위의 문제를 그리디 문제로 해결할 수 있는 이유는 큰 단위가 항상 작은 단위의 배수이므로 작은 단위의 동전을 조합해 다른 해가 나올 수 없기 때문이다.\n",
    "- 항상 문제 풀이에 대한 아이디어가 정당한지 검토할 수 있어야 한다."
   ]
  },
  {
   "cell_type": "markdown",
   "metadata": {},
   "source": [
    "##### 그리디 알고리즘의 정당성  \n",
    "거스름돈 문제와 같이 탐욕적으로 문제에 접근했을 때 정확한 답을 찾을 수 있다는 보장이 있을 때 매우 효과적이고 직관적이다. \n",
    "어떤 문제의 유형을 파악하기 어렵다면 그리디 알고리즘을 의심하고, 탐욕적인 해결법이 존재하는지 고민해보자."
   ]
  },
  {
   "cell_type": "markdown",
   "metadata": {},
   "source": [
    "## 3-2 큰 수의 법칙\n",
    "'큰 수의 법칙'은 일반적으로 통계 분야에서 다루어지는 내용이지만 동빈이는 본인만의 방식으로 다르게 사용하고 있다. 동빈이의 큰 수의 법칙은 다양한 수로 이루어진 배열이 있을 때 주어진 수들을 M번 더하여 가장 큰 수를 만드는 법칙이다. 단, 배열의 특정한 인덱스(번호)에 해당하는 수가 연속해서 K번 초과하여 더해질 수 없는 것이 이 법칙의 특징이다.  \n",
    "예를 들어 순서대로 2,4,5,4,6으로 이루어진 배열이 있을 때 M이 8이고 K가 3이라 가정하자. 이 경우 특정한 인덱스의 수가 연속해서 세 번 까지만 더해질 수 있으므로 큰 수의 법칙에 따른 결과는 6+6+6+5+6+6+6+5인 46이 된다.  \n",
    "단, 서로 다른 인덱스에 해당하는 수가 같은 경우에도 서로 다른 것으로 간주한다. 예를 들어 순서대로 3,4,3,4,3으로 이루어진 배열이 있고 M이 7, K가 2라고 가정하자. 이 경우 두 번째 원소에 해당하는 4와 네 번째 원소에 해당하는 4를 번갈아 두 번씩 더하는 것이 가능하다. 결과적으로 4+4+4+4+4+4+4인 28이 도출된다.  \n",
    "배열의 크기 N, 숫자가 더해지는 횟수 M, 그리고 K가 주어질 때 동빈이의 큰 수의 법칙에 따른 결과를 출력하시오."
   ]
  },
  {
   "cell_type": "markdown",
   "metadata": {},
   "source": [
    "##### 입력 조건\n",
    "- 첫째 줄에 N(2<=N<=1,000), M(1<=M<=10,000), K(1<=K<=10,000)의 자연수가 주어지며, 각 자연수는 공백으로 구분한다.\n",
    "- 둘째 줄에 N개의 자연수가 주어진다. 각 자연수는 공백으로 구분한다. 단, 각각의 자연수는 1 이상 10,000 이하의 수로 주어진다.\n",
    "- 입력으로 주어지는 K는 항상 M보다 작거나 같다."
   ]
  },
  {
   "cell_type": "markdown",
   "metadata": {},
   "source": [
    "##### 출력 조건\n",
    "- 첫째 줄에 동빈이의 큰 수의 법칙에 따라 더해진 답을 출력한다."
   ]
  },
  {
   "cell_type": "markdown",
   "metadata": {},
   "source": [
    "##### 입력 예시\n",
    "5 8 3  \n",
    "2 4 5 4 6"
   ]
  },
  {
   "cell_type": "markdown",
   "metadata": {},
   "source": [
    "##### 출력 예시\n",
    "46"
   ]
  },
  {
   "cell_type": "markdown",
   "metadata": {},
   "source": [
    "-> 결국 더해지는 가장 큰 두개의 숫자이므로 숫자의 리스트 중에서 가장 큰 두 숫자를 추출하여 더해주면 된다. 총 M번의 덧셈중에 K번까지 연속될 수 있으므로, M을 K로 나눈 몫 만큼이 두 번째로 큰 숫자가 더해지는 횟수이며, 나머지는 가장 큰 숫자가 더해지게 된다."
   ]
  },
  {
   "cell_type": "code",
   "execution_count": 9,
   "metadata": {},
   "outputs": [
    {
     "name": "stdout",
     "output_type": "stream",
     "text": [
      "5 8 3\n",
      "2 4 5 4 6\n",
      "46\n"
     ]
    }
   ],
   "source": [
    "# 나의 풀이\n",
    "\n",
    "# N,M,K를 공백을 구분하여 입력받기\n",
    "n, m, k = map(int, input().split())\n",
    "# N개의 수를 공백으로 구분하여 입력받기\n",
    "data = list(map(int, input().split()))\n",
    "\n",
    "data.sort() # 수들을 정렬하기\n",
    "\n",
    "result = (data[-1]*(m-(m//(k+1)))) + (data[-2]*(m//(k+1)))\n",
    "\n",
    "print(result)"
   ]
  },
  {
   "cell_type": "code",
   "execution_count": 6,
   "metadata": {},
   "outputs": [
    {
     "name": "stdout",
     "output_type": "stream",
     "text": [
      "5 8 3\n",
      "2 4 5 4 6\n",
      "46\n"
     ]
    }
   ],
   "source": [
    "# 다른 풀이1\n",
    "\n",
    "#N,M,K를 공백을 구분하여 입력받기\n",
    "n, m, k = map(int, input().split())\n",
    "#N개의 수를 공백으로 구분하여 입력받기\n",
    "data = list(map(int, input().split()))\n",
    "\n",
    "data.sort() # 입력받은 수들을 정렬\n",
    "first = data[n-1] # 가장 큰 수를 저장\n",
    "second = data[n-2] # 두 번째로 큰 수를 저장\n",
    "\n",
    "result = 0\n",
    "\n",
    "while True:\n",
    "    for i in range(k) : # 가장 큰 수를 k번 더하기\n",
    "        if m == 0: # 더하는 횟수가 0이 되면 break를 통해 루프를 나온다.\n",
    "            break\n",
    "        result += first # 가장 큰값 더하기\n",
    "        m -= 1 # 계산한 뒤 m값을 1씩 빼준다.\n",
    "    if m == 0:\n",
    "        break\n",
    "    result += second # 두 번째로 큰 수를 한번 더하기\n",
    "    m -= 1 # m값을 1씩 빼준다.\n",
    "    \n",
    "print(result)"
   ]
  },
  {
   "cell_type": "markdown",
   "metadata": {},
   "source": [
    "- while문을 통해 계속되는 연산을 해주게 되는데, (가장 큰 수를 K번, 그다음 두 번째로 큰 수)를 더하고 다시 가장 큰 수를 K번 더하는 식으로 (가장 큰 수를 K번, 그다음 두 번째로 큰 수)의 루프를 만들어 주었다. 그런 와중에 남은 연산 횟수가 0회가 된다면 break를 통해 연산을 종료하는 식으로 구현되었다.\n",
    "- while문 내에 for문, if문이 존재하므로 복잡도가 꽤나 클 것으로 예상된다."
   ]
  },
  {
   "cell_type": "code",
   "execution_count": 7,
   "metadata": {},
   "outputs": [
    {
     "name": "stdout",
     "output_type": "stream",
     "text": [
      "5 8 3\n",
      "2 4 5 4 6\n",
      "46\n"
     ]
    }
   ],
   "source": [
    "# 다른 풀이2\n",
    "\n",
    "#N,M,K를 공백을 구분하여 입력받기\n",
    "n, m, k = map(int, input().split())\n",
    "#N개의 수를 공백으로 구분하여 입력받기\n",
    "data = list(map(int, input().split()))\n",
    "\n",
    "data.sort() # 입력받은 수들을 정렬\n",
    "first = data[n-1] # 가장 큰 수를 저장\n",
    "second = data[n-2] # 두 번째로 큰 수를 저장\n",
    "\n",
    "count = int(m/(k+1))*k # 가장 큰 수가 더해지는 횟수를 계산\n",
    "count += m % (k+1) # 남은 몫만큼을 다시 더해주어야 총 연산 횟수이다.\n",
    "\n",
    "result = 0\n",
    "result += (count) * first\n",
    "result += (m-count) * second\n",
    "\n",
    "print(result)"
   ]
  },
  {
   "cell_type": "markdown",
   "metadata": {},
   "source": [
    "- 가장 큰 수가 더해지는 횟수는, 반복되는 수열의 크기가 (K+1) 이므로 M을 (K+1)로 나눈 몫만큼 반복된다. 이중에 K번이 가장 큰 수 이므로 M//(K+1) * K 번 만큼 나오게 된다.\n",
    "- 두 번째로 큰 수는 전체 횟수에서 이 횟수를 빼주면 된다.\n",
    "- 나의 코드를 보면 두 번째 수가 더해지는 횟수를 먼저 구하고 첫 번째 수가 더해지는 수를 쉽게 구하는 방식이다.이때, 계산을 두번을 시행해야 하는데 위와 같이 연산횟수를 미리 계산해 준다면 훨씬 효율적인 코드가 될것이다.  \n",
    "-> 연산 횟수가 단순히 1,2회 차이이지만 더 효율적인 방법을 고려해보자."
   ]
  },
  {
   "cell_type": "code",
   "execution_count": 10,
   "metadata": {},
   "outputs": [
    {
     "name": "stdout",
     "output_type": "stream",
     "text": [
      "5 8 3\n",
      "2 4 5 4 6\n",
      "46\n"
     ]
    }
   ],
   "source": [
    "# 나의 코드 수정\n",
    "\n",
    "#N,M,K를 공백을 구분하여 입력받기\n",
    "n, m, k = map(int, input().split())\n",
    "#N개의 수를 공백으로 구분하여 입력받기\n",
    "data = list(map(int, input().split()))\n",
    "\n",
    "data.sort() # 수들을 정렬하기\n",
    "\n",
    "cal_count = m//(k+1) # 연산 미리 해주기\n",
    "\n",
    "result = (data[-1]*(m-cal_count)) + (data[-2]*cal_count)\n",
    "\n",
    "print(result)"
   ]
  },
  {
   "cell_type": "markdown",
   "metadata": {},
   "source": [
    "## 3-3 숫자 카드 게임\n",
    "숫자 카드 게임은 여러 개의 숫자 카드 중에서 가장 높은 숫자가 쓰인 카드 한 장을 뽑는 게임이다.  \n",
    "단, 게임의 룰을 지키며 카다를 뽑아야 하고 룰은 다음과 같다.  \n",
    "1. 숫자가 쓰인 카드들이 N * M 형태로 놓여 있다. 이때 N은 행의 개수를 의미하며, M은 열의 개수를 의미한다.\n",
    "2. 먼저 뽑고자 하는 카드가 포함되어 있는 행을 선택한다.\n",
    "3. 그다음 선택된 행에 포함된 카드들 중 가장 숫자가 낮은 카드를 뽑아야 한다.\n",
    "4. 따라서 처음에 카드를 골라낼 행을 선택할 때, 이후에 해당 행에서 가장 숫자가 낮은 카드를 뽑을 것을 고려하여 최종적으로 가장 높은 숫자의 카드를 뽑을 수 있도록 전략을 세워야 한다.  \n",
    "\n",
    "예를 들어 3 * 3 형태로 다음과 같이 놓여있다고 가정하자.  \n",
    "3  1  2  \n",
    "4  1  4  \n",
    "2  2  2  \n",
    "여기서 카드를 골라낼 행을 고를 때 첫 번째 혹은 두 번째 행을 선택하는 경우, 최종적으로 뽑는 카드는 1이다. 하지만 세 번째 행을 선택하는 경우 최종적으로 뽑는 카드는 2이다. 따라서 이 예제에서는 세 번째 행을 선택하여 숫자 2가 쓰여진 카드를 뽑는 것이 정답이다.  \n",
    "카드들이 N * M 형태로 놓여 있을 때, 게임의 룰에 맞게 카드를 뽑는 프로그램을 만드시오."
   ]
  },
  {
   "cell_type": "markdown",
   "metadata": {},
   "source": [
    "##### 입력 조건\n",
    "- 첫째 줄에 숫자 카드들이 놓인 행의 개수 N과 열의 개수 M이 공백을 기준으로 하여 각각 자연수로 주어진다.(1 <= N, M <= 100)\n",
    "- 둘째 줄부터 N개의 줄에 걸쳐 각 카드에 적힌 숫자가 주어진다. 각 숫자는 1 이상 10,000 이하의 자연수이다."
   ]
  },
  {
   "cell_type": "markdown",
   "metadata": {},
   "source": [
    "##### 출력 조건\n",
    "- 첫째 줄에 게임의 룰에 맞게 선택한 카드에 적힌 숫자를 출력한다."
   ]
  },
  {
   "cell_type": "markdown",
   "metadata": {},
   "source": [
    "##### 입력 예시 1\n",
    "3  3  \n",
    "3  1  2  \n",
    "4  1  4  \n",
    "2  2  2  "
   ]
  },
  {
   "cell_type": "markdown",
   "metadata": {},
   "source": [
    "##### 출력 예시 1\n",
    "2"
   ]
  },
  {
   "cell_type": "markdown",
   "metadata": {},
   "source": [
    "##### 입력 예시 2\n",
    "2  4  \n",
    "7  3  1  8  \n",
    "3  3  3  4  "
   ]
  },
  {
   "cell_type": "markdown",
   "metadata": {},
   "source": [
    "##### 출력 예시 2\n",
    "3"
   ]
  },
  {
   "cell_type": "code",
   "execution_count": null,
   "metadata": {},
   "outputs": [],
   "source": []
  }
 ],
 "metadata": {
  "kernelspec": {
   "display_name": "Python 3",
   "language": "python",
   "name": "python3"
  },
  "language_info": {
   "codemirror_mode": {
    "name": "ipython",
    "version": 3
   },
   "file_extension": ".py",
   "mimetype": "text/x-python",
   "name": "python",
   "nbconvert_exporter": "python",
   "pygments_lexer": "ipython3",
   "version": "3.8.1"
  }
 },
 "nbformat": 4,
 "nbformat_minor": 4
}
